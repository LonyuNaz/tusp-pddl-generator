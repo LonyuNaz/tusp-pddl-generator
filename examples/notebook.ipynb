{
 "cells": [
  {
   "cell_type": "code",
   "execution_count": 1,
   "metadata": {},
   "outputs": [
    {
     "ename": "ModuleNotFoundError",
     "evalue": "No module named 'src.generate'",
     "output_type": "error",
     "traceback": [
      "\u001b[0;31m---------------------------------------------------------------------------\u001b[0m",
      "\u001b[0;31mModuleNotFoundError\u001b[0m                       Traceback (most recent call last)",
      "Cell \u001b[0;32mIn[1], line 5\u001b[0m\n\u001b[1;32m      3\u001b[0m \u001b[38;5;28;01mif\u001b[39;00m os\u001b[38;5;241m.\u001b[39mpath\u001b[38;5;241m.\u001b[39mabspath(\u001b[38;5;124m'\u001b[39m\u001b[38;5;124m..\u001b[39m\u001b[38;5;124m'\u001b[39m) \u001b[38;5;129;01mnot\u001b[39;00m \u001b[38;5;129;01min\u001b[39;00m sys\u001b[38;5;241m.\u001b[39mpath:\n\u001b[1;32m      4\u001b[0m     sys\u001b[38;5;241m.\u001b[39mpath\u001b[38;5;241m.\u001b[39mappend(os\u001b[38;5;241m.\u001b[39mpath\u001b[38;5;241m.\u001b[39mabspath(\u001b[38;5;124m'\u001b[39m\u001b[38;5;124m..\u001b[39m\u001b[38;5;124m'\u001b[39m))\n\u001b[0;32m----> 5\u001b[0m \u001b[38;5;28;01mfrom\u001b[39;00m \u001b[38;5;21;01msrc\u001b[39;00m\u001b[38;5;21;01m.\u001b[39;00m\u001b[38;5;21;01mgenerate\u001b[39;00m \u001b[38;5;28;01mimport\u001b[39;00m \u001b[38;5;241m*\u001b[39m\n",
      "\u001b[0;31mModuleNotFoundError\u001b[0m: No module named 'src.generate'"
     ]
    }
   ],
   "source": [
    "import sys\n",
    "import os\n",
    "if os.path.abspath('..') not in sys.path:\n",
    "    sys.path.append(os.path.abspath('..'))\n",
    "from src.generate import *"
   ]
  },
  {
   "cell_type": "code",
   "execution_count": null,
   "metadata": {},
   "outputs": [],
   "source": [
    "binckhorst_yard = ShuntingYard(\n",
    "    \"ins_n_bh\", \n",
    "    \"dom_n\",\n",
    "    DomainConfig.Numeric,\n",
    "    DirectionStrategy.Aside, # default direction Aside\n",
    "    True, # negative_preconditions\n",
    "    TrackOccupationStrategy.ORDER, # how to model where trains are\n",
    "    0, # max concurrent movements\n",
    ")\n",
    "binckhorst_yard.load_location_json('../yards/location_kleine_binckhorst.json', include_switches=False)\n",
    "binckhorst_yard.remove_track('64')\n",
    "binckhorst_yard.remove_track('906c')\n",
    "binckhorst_yard.remove_track('906a')\n",
    "binckhorst_yard.remove_track('63')\n",
    "binckhorst_yard.set_entry_track_connections(['52', '53', '54', '55', '56', '57', '58', '59'], False)\n",
    "binckhorst_yard.load_train_json('../scenarios/scenario_pddl3.json')\n",
    "for train in binckhorst_yard.trains:\n",
    "    train.goal = GoalStates.PARKING_AFTER_SERVICE\n",
    "binckhorst_yard.set_servicing_tracks(['61', '62'])\n",
    "# binckhorst_yard.load_state_from_plan('output.plan')\n",
    "binckhorst_yard.generate_instance()\n",
    "binckhorst_yard.visualize()\n"
   ]
  },
  {
   "cell_type": "code",
   "execution_count": null,
   "metadata": {},
   "outputs": [],
   "source": [
    "binckhorst_yard = ShuntingYard(\n",
    "    \"ins_nt_bh\", \n",
    "    \"dom_nt_1\",\n",
    "    DomainConfig.TemporalAndNumeric,\n",
    "    DirectionStrategy.Bside, # default direction Aside\n",
    "    False, # negative_preconditions\n",
    "    TrackOccupationStrategy.STACK_LOCATION, # how to model where trains are\n",
    "    0, # max concurrent movements\n",
    ")\n",
    "binckhorst_yard.set_drivers(['Andy'])\n",
    "binckhorst_yard.load_location_json('../yards/location_kleine_binckhorst.json', include_switches=False)\n",
    "binckhorst_yard.remove_track('64')\n",
    "binckhorst_yard.remove_track('906c')\n",
    "binckhorst_yard.remove_track('906a')\n",
    "binckhorst_yard.remove_track('63')\n",
    "binckhorst_yard.set_entry_track_connections(['52', '53', '54', '55', '56', '57', '58', '59'], False)\n",
    "binckhorst_yard.load_train_json('../scenarios/scenario_pddl2.json')\n",
    "# binckhorst_yard.set_servicing_tracks(['61', '62'])\n",
    "for train in binckhorst_yard.trains:\n",
    "    train.goal = GoalStates.IS_PARKING\n",
    "# binckhorst_yard.load_state_from_plan('output.plan')\n",
    "binckhorst_yard.generate_instance()\n",
    "binckhorst_yard.visualize()\n",
    "\n"
   ]
  }
 ],
 "metadata": {
  "kernelspec": {
   "display_name": "Python 3",
   "language": "python",
   "name": "python3"
  },
  "language_info": {
   "codemirror_mode": {
    "name": "ipython",
    "version": 3
   },
   "file_extension": ".py",
   "mimetype": "text/x-python",
   "name": "python",
   "nbconvert_exporter": "python",
   "pygments_lexer": "ipython3",
   "version": "3.12.3"
  }
 },
 "nbformat": 4,
 "nbformat_minor": 2
}
